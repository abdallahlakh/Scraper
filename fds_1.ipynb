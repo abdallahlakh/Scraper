{
  "nbformat": 4,
  "nbformat_minor": 0,
  "metadata": {
    "colab": {
      "provenance": [],
      "toc_visible": true,
      "authorship_tag": "ABX9TyPkfiORGvHxpRm1qVrnekFx",
      "include_colab_link": true
    },
    "kernelspec": {
      "name": "python3",
      "display_name": "Python 3"
    },
    "language_info": {
      "name": "python"
    }
  },
  "cells": [
    {
      "cell_type": "markdown",
      "metadata": {
        "id": "view-in-github",
        "colab_type": "text"
      },
      "source": [
        "<a href=\"https://colab.research.google.com/github/abdallahlakh/Scraper/blob/main/fds_1.ipynb\" target=\"_parent\"><img src=\"https://colab.research.google.com/assets/colab-badge.svg\" alt=\"Open In Colab\"/></a>"
      ]
    },
    {
      "cell_type": "markdown",
      "source": [
        "importing the packages"
      ],
      "metadata": {
        "id": "gaD-UCJxIJXq"
      }
    },
    {
      "cell_type": "code",
      "source": [
        "import numpy as np"
      ],
      "metadata": {
        "id": "nR-4OldnIPFR"
      },
      "execution_count": 3,
      "outputs": []
    },
    {
      "cell_type": "markdown",
      "source": [
        "Array Creation and Manipulation:\n"
      ],
      "metadata": {
        "id": "0CddxMeyQqy-"
      }
    },
    {
      "cell_type": "markdown",
      "source": [
        "1:"
      ],
      "metadata": {
        "id": "xAmCAI0AIdp4"
      }
    },
    {
      "cell_type": "code",
      "source": [
        "array = np.arange(10)"
      ],
      "metadata": {
        "id": "KjfSB_fNIRtF"
      },
      "execution_count": 4,
      "outputs": []
    },
    {
      "cell_type": "code",
      "source": [
        "array"
      ],
      "metadata": {
        "colab": {
          "base_uri": "https://localhost:8080/"
        },
        "id": "vS16KxcQIhVx",
        "outputId": "007b2368-e800-42ec-c690-45dcfb374554"
      },
      "execution_count": 5,
      "outputs": [
        {
          "output_type": "execute_result",
          "data": {
            "text/plain": [
              "array([0, 1, 2, 3, 4, 5, 6, 7, 8, 9])"
            ]
          },
          "metadata": {},
          "execution_count": 5
        }
      ]
    },
    {
      "cell_type": "markdown",
      "source": [
        "2:"
      ],
      "metadata": {
        "id": "iFHcE2_1JaAV"
      }
    },
    {
      "cell_type": "code",
      "source": [
        "array_2d=np.zeros((3,4))"
      ],
      "metadata": {
        "id": "uCAmD75GIiuZ"
      },
      "execution_count": 9,
      "outputs": []
    },
    {
      "cell_type": "code",
      "source": [
        "array_2d"
      ],
      "metadata": {
        "colab": {
          "base_uri": "https://localhost:8080/"
        },
        "id": "L9O4MqWgI-hl",
        "outputId": "a485d549-c80b-4f20-deb9-d35f4863d5a8"
      },
      "execution_count": 10,
      "outputs": [
        {
          "output_type": "execute_result",
          "data": {
            "text/plain": [
              "array([[0., 0., 0., 0.],\n",
              "       [0., 0., 0., 0.],\n",
              "       [0., 0., 0., 0.]])"
            ]
          },
          "metadata": {},
          "execution_count": 10
        }
      ]
    },
    {
      "cell_type": "markdown",
      "source": [
        "3:"
      ],
      "metadata": {
        "id": "yzwLugpoJzUK"
      }
    },
    {
      "cell_type": "code",
      "source": [
        "array_spaced = np.linspace(0, 1, 10)"
      ],
      "metadata": {
        "id": "S3p_UlmEJU2t"
      },
      "execution_count": 15,
      "outputs": []
    },
    {
      "cell_type": "code",
      "source": [
        "array_spaced"
      ],
      "metadata": {
        "colab": {
          "base_uri": "https://localhost:8080/"
        },
        "id": "hRC0FWwAJ5nQ",
        "outputId": "2f57800d-1faa-4dd7-ce03-e9391072d4e8"
      },
      "execution_count": 16,
      "outputs": [
        {
          "output_type": "execute_result",
          "data": {
            "text/plain": [
              "array([0.        , 0.11111111, 0.22222222, 0.33333333, 0.44444444,\n",
              "       0.55555556, 0.66666667, 0.77777778, 0.88888889, 1.        ])"
            ]
          },
          "metadata": {},
          "execution_count": 16
        }
      ]
    },
    {
      "cell_type": "markdown",
      "source": [
        "4:"
      ],
      "metadata": {
        "id": "J3eWYjsMKP7y"
      }
    },
    {
      "cell_type": "code",
      "source": [
        "random_matrix = np.random.rand(3, 3)\n"
      ],
      "metadata": {
        "id": "gtvV1EUVJ8gR"
      },
      "execution_count": 17,
      "outputs": []
    },
    {
      "cell_type": "code",
      "source": [
        "random_matrix"
      ],
      "metadata": {
        "colab": {
          "base_uri": "https://localhost:8080/"
        },
        "id": "i1_xN-E_KsgD",
        "outputId": "1bf63aac-1de1-4cd2-ecbb-adb95340bfbe"
      },
      "execution_count": 18,
      "outputs": [
        {
          "output_type": "execute_result",
          "data": {
            "text/plain": [
              "array([[0.86307233, 0.53935697, 0.31605201],\n",
              "       [0.01581198, 0.50174616, 0.93847589],\n",
              "       [0.43805035, 0.01058836, 0.79932796]])"
            ]
          },
          "metadata": {},
          "execution_count": 18
        }
      ]
    },
    {
      "cell_type": "markdown",
      "source": [
        "5:"
      ],
      "metadata": {
        "id": "hTpWOXTqQvQg"
      }
    },
    {
      "cell_type": "code",
      "source": [
        "t=np.asarray([x for x in range(10,51) if x % 2 ==0])"
      ],
      "metadata": {
        "id": "QHUiJLeZKuh0"
      },
      "execution_count": 23,
      "outputs": []
    },
    {
      "cell_type": "code",
      "source": [
        "t"
      ],
      "metadata": {
        "colab": {
          "base_uri": "https://localhost:8080/"
        },
        "id": "7BP8_RdTLkoU",
        "outputId": "16c0e7b1-5b27-4df2-c823-ee71ad381500"
      },
      "execution_count": 24,
      "outputs": [
        {
          "output_type": "execute_result",
          "data": {
            "text/plain": [
              "array([10, 12, 14, 16, 18, 20, 22, 24, 26, 28, 30, 32, 34, 36, 38, 40, 42,\n",
              "       44, 46, 48, 50])"
            ]
          },
          "metadata": {},
          "execution_count": 24
        }
      ]
    },
    {
      "cell_type": "markdown",
      "source": [
        "6:"
      ],
      "metadata": {
        "id": "WU00opLtQyJG"
      }
    },
    {
      "cell_type": "code",
      "source": [
        "\n",
        "identity_matrix = np.eye(5)\n",
        "identity_matrix"
      ],
      "metadata": {
        "colab": {
          "base_uri": "https://localhost:8080/"
        },
        "id": "DP_LST7LL2kl",
        "outputId": "a8887da8-93ec-4671-d2bf-8c22269fc00a"
      },
      "execution_count": 30,
      "outputs": [
        {
          "output_type": "execute_result",
          "data": {
            "text/plain": [
              "array([[1., 0., 0., 0., 0.],\n",
              "       [0., 1., 0., 0., 0.],\n",
              "       [0., 0., 1., 0., 0.],\n",
              "       [0., 0., 0., 1., 0.],\n",
              "       [0., 0., 0., 0., 1.]])"
            ]
          },
          "metadata": {},
          "execution_count": 30
        }
      ]
    },
    {
      "cell_type": "markdown",
      "source": [
        "7:"
      ],
      "metadata": {
        "id": "cdXBAZz_Q196"
      }
    },
    {
      "cell_type": "code",
      "source": [
        "array_log_spaced = np.logspace(0, 2, 20,base=10)\n",
        "array_log_spaced"
      ],
      "metadata": {
        "colab": {
          "base_uri": "https://localhost:8080/"
        },
        "id": "0xEbD16oMh7Y",
        "outputId": "715fc438-4f14-4db9-c6be-22b1073546f6"
      },
      "execution_count": 32,
      "outputs": [
        {
          "output_type": "execute_result",
          "data": {
            "text/plain": [
              "array([  1.        ,   1.27427499,   1.62377674,   2.06913808,\n",
              "         2.6366509 ,   3.35981829,   4.2813324 ,   5.45559478,\n",
              "         6.95192796,   8.8586679 ,  11.28837892,  14.38449888,\n",
              "        18.32980711,  23.35721469,  29.76351442,  37.92690191,\n",
              "        48.32930239,  61.58482111,  78.47599704, 100.        ])"
            ]
          },
          "metadata": {},
          "execution_count": 32
        }
      ]
    },
    {
      "cell_type": "markdown",
      "source": [
        "8:"
      ],
      "metadata": {
        "id": "kirgrSvmQ44W"
      }
    },
    {
      "cell_type": "code",
      "source": [
        "original_array = np.arange(10)\n",
        "original_array.reshape(5, 2)"
      ],
      "metadata": {
        "colab": {
          "base_uri": "https://localhost:8080/"
        },
        "id": "-gmH-b8lNE1F",
        "outputId": "f1f74dae-ed4b-4c3d-cfc4-6a0e0313b047"
      },
      "execution_count": 47,
      "outputs": [
        {
          "output_type": "execute_result",
          "data": {
            "text/plain": [
              "array([[0, 1],\n",
              "       [2, 3],\n",
              "       [4, 5],\n",
              "       [6, 7],\n",
              "       [8, 9]])"
            ]
          },
          "metadata": {},
          "execution_count": 47
        }
      ]
    },
    {
      "cell_type": "markdown",
      "source": [
        "9:"
      ],
      "metadata": {
        "id": "M-XhZUuRQ7kE"
      }
    },
    {
      "cell_type": "code",
      "source": [
        "original_array = np.array([[1, 2, 3], [4, 5, 6]])\n",
        "original_array.T"
      ],
      "metadata": {
        "colab": {
          "base_uri": "https://localhost:8080/"
        },
        "id": "ONjr-YniPuHc",
        "outputId": "72e7a36a-99a9-4d88-9865-d632527487a4"
      },
      "execution_count": 50,
      "outputs": [
        {
          "output_type": "execute_result",
          "data": {
            "text/plain": [
              "array([[1, 4],\n",
              "       [2, 5],\n",
              "       [3, 6]])"
            ]
          },
          "metadata": {},
          "execution_count": 50
        }
      ]
    },
    {
      "cell_type": "markdown",
      "source": [
        "10:"
      ],
      "metadata": {
        "id": "iYV8ySeIQ-Yy"
      }
    },
    {
      "cell_type": "code",
      "source": [
        "original_array = np.array([1, 2, 3, 4, 5, 6, 7, 8, 9, 10])\n",
        "\n",
        "odd_numbers = original_array[original_array % 2 != 0]\n",
        "odd_numbers"
      ],
      "metadata": {
        "colab": {
          "base_uri": "https://localhost:8080/"
        },
        "id": "Az0bn71SPzj6",
        "outputId": "788e2b3f-9df3-45e3-8a74-0730709b588d"
      },
      "execution_count": 51,
      "outputs": [
        {
          "output_type": "execute_result",
          "data": {
            "text/plain": [
              "array([1, 3, 5, 7, 9])"
            ]
          },
          "metadata": {},
          "execution_count": 51
        }
      ]
    },
    {
      "cell_type": "code",
      "source": [],
      "metadata": {
        "id": "COy7b00_QYBF"
      },
      "execution_count": null,
      "outputs": []
    }
  ]
}